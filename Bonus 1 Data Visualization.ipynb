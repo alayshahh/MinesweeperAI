{
 "cells": [
  {
   "cell_type": "code",
   "execution_count": null,
   "id": "centered-aside",
   "metadata": {},
   "outputs": [],
   "source": [
    "import os\n",
    "from os import listdir\n",
    "from os.path import isfile, join\n",
    "from matplotlib import pyplot as plt\n",
    "import re\n"
   ]
  },
  {
   "cell_type": "code",
   "execution_count": null,
   "id": "premium-definition",
   "metadata": {},
   "outputs": [],
   "source": [
    "# Load the sample data from ./sample_data/\n",
    "data_dir = \"./sample_data/\"\n",
    "data_files = [join(data_dir, f) for f in listdir(data_dir) if isfile(join(data_dir, f))]\n",
    "data_files"
   ]
  },
  {
   "cell_type": "code",
   "execution_count": null,
   "id": "weird-bennett",
   "metadata": {},
   "outputs": [],
   "source": [
    "raw_contents = [] # list of lists (agent name, data string)\n",
    "for data_file in data_files:\n",
    "    f = open(data_file, mode=\"r\")\n",
    "    contents = f.read()\n",
    "    agent_name = data_file[data_file.find(\"a/\")+2:-4]\n",
    "    raw_contents.append([agent_name, contents])\n",
    "raw_contents"
   ]
  },
  {
   "cell_type": "code",
   "execution_count": null,
   "id": "fitting-syria",
   "metadata": {},
   "outputs": [],
   "source": [
    "# Regex match\n",
    "parsed_data = {} # key = agent name, value = parsed data\n",
    "for raw_content in raw_contents:\n",
    "    agent_name, lines = raw_content\n",
    "    lines = lines.split(\"\\n\")\n",
    "    agent_data = {}\n",
    "    curr_bomb_count = -1\n",
    "    for line in lines:\n",
    "        # extract bomb count #\n",
    "        matches = re.findall(r\"BOMB_COUNT = (\\d+)\", line)\n",
    "        if len(matches) != 0:\n",
    "            curr_bomb_count = int(matches[0])\n",
    "            agent_data[curr_bomb_count] = []\n",
    "            continue\n",
    "        \n",
    "        \n",
    "        # extract score sample\n",
    "        matches = re.findall(r\".+?(?=bomb_count)bomb_count = (\\d+), score = (\\d+)\", line)\n",
    "        if len(matches) > 0:\n",
    "            max_score, actual_score = matches[0]\n",
    "            agent_data[curr_bomb_count].append(int(actual_score))\n",
    "                \n",
    "    # add agent data to parsed data\n",
    "    parsed_data[agent_name] = agent_data\n",
    "\n",
    "parsed_data"
   ]
  },
  {
   "cell_type": "code",
   "execution_count": null,
   "id": "lesser-finland",
   "metadata": {},
   "outputs": [],
   "source": [
    "# now that we have the actual scores for each bomb_count for each agent, we need to convert make a dict,\n",
    "# matching agent name to a list of (total_score / total_max_score)\n",
    "score_percentages = {}\n",
    "for agent_name in parsed_data.keys():\n",
    "    curr_percentages = []\n",
    "    for max_score in parsed_data[agent_name].keys():\n",
    "        if max_score == 0:\n",
    "            curr_percentages.append(1.0)\n",
    "        else:\n",
    "            scores = parsed_data[agent_name][max_score]\n",
    "            total_score = sum(scores)\n",
    "            total_max_score = max_score * len(scores)\n",
    "            curr_percentages.append(total_score / total_max_score)\n",
    "    score_percentages[agent_name] = curr_percentages\n",
    "\n",
    "score_percentages"
   ]
  },
  {
   "cell_type": "code",
   "execution_count": null,
   "id": "liberal-latvia",
   "metadata": {},
   "outputs": [],
   "source": [
    "# Plot the data.\n",
    "plt.figure(figsize=(20,10))\n",
    "plt.rcParams[\"font.size\"] = \"20\"\n",
    "plt.xlabel(\"Bomb Density\")\n",
    "plt.ylabel(\"Average Score / Max Score\")\n",
    "for name, y_axis in score_percentages.items():\n",
    "    densities = [x / max(parsed_data[agent_name].keys()) for x in parsed_data[agent_name].keys()]\n",
    "    plt.plot(densities, y_axis, label=name)\n",
    "\n",
    "plt.title(\"Bomb Density vs Score\")\n",
    "plt.legend()"
   ]
  }
 ],
 "metadata": {
  "kernelspec": {
   "display_name": "Python 3",
   "language": "python",
   "name": "python3"
  },
  "language_info": {
   "codemirror_mode": {
    "name": "ipython",
    "version": 3
   },
   "file_extension": ".py",
   "mimetype": "text/x-python",
   "name": "python",
   "nbconvert_exporter": "python",
   "pygments_lexer": "ipython3",
   "version": "3.7.3"
  }
 },
 "nbformat": 4,
 "nbformat_minor": 5
}
